{
 "cells": [
  {
   "cell_type": "code",
   "execution_count": null,
   "id": "83b5ba2d",
   "metadata": {},
   "outputs": [],
   "source": [
    "import torch\n",
    "from crnn import CRNN"
   ]
  },
  {
   "cell_type": "code",
   "execution_count": null,
   "id": "a493a749",
   "metadata": {},
   "outputs": [],
   "source": [
    "crnn = CRNN(\n",
    "    cnn_backbone_name = 'resnet18d',\n",
    "    cnn_backbone_pretrained = False,\n",
    "    cnn_output_size = 8192,\n",
    "    rnn_features_num = 128,\n",
    "    rnn_dropout = 0.1,\n",
    "    rnn_bidirectional = True,\n",
    "    rnn_num_layers = 2,\n",
    "    num_classes = 28,\n",
    ")"
   ]
  },
  {
   "cell_type": "code",
   "execution_count": null,
   "id": "73ef0798",
   "metadata": {},
   "outputs": [],
   "source": [
    "crnn(torch.rand(1, 3, 512, 512)).shape"
   ]
  }
 ],
 "metadata": {
  "kernelspec": {
   "display_name": "Python 3 (ipykernel)",
   "language": "python",
   "name": "python3"
  },
  "language_info": {
   "codemirror_mode": {
    "name": "ipython",
    "version": 3
   },
   "file_extension": ".py",
   "mimetype": "text/x-python",
   "name": "python",
   "nbconvert_exporter": "python",
   "pygments_lexer": "ipython3",
   "version": "3.8.10"
  }
 },
 "nbformat": 4,
 "nbformat_minor": 5
}
