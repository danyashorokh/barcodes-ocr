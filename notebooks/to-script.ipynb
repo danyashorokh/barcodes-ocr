{
 "cells": [
  {
   "cell_type": "code",
   "execution_count": 15,
   "id": "7cc10236",
   "metadata": {},
   "outputs": [
    {
     "name": "stdout",
     "output_type": "stream",
     "text": [
      "The autoreload extension is already loaded. To reload it, use:\n",
      "  %reload_ext autoreload\n"
     ]
    }
   ],
   "source": [
    "import sys\n",
    "if '..' not in sys.path:\n",
    "    sys.path.append('..')\n",
    "\n",
    "import torch\n",
    "from src.model import CRNN\n",
    "from src.utils import preprocess_imagenet, get_code\n",
    "\n",
    "%load_ext autoreload\n",
    "%autoreload 2"
   ]
  },
  {
   "cell_type": "code",
   "execution_count": 35,
   "id": "3278c7d9",
   "metadata": {},
   "outputs": [],
   "source": [
    "model_path = '../weights/model_ocr.pth'"
   ]
  },
  {
   "cell_type": "code",
   "execution_count": 36,
   "id": "46d6d6a9",
   "metadata": {},
   "outputs": [],
   "source": [
    "model = CRNN(    \n",
    "    cnn_backbone_name = 'resnet18d',\n",
    "    cnn_backbone_pretrained = True,\n",
    "    cnn_output_size = 4608,\n",
    "    rnn_features_num = 128,\n",
    "    rnn_dropout = 0.1,\n",
    "    rnn_bidirectional = True,\n",
    "    rnn_num_layers = 2,\n",
    "    num_classes = 12,\n",
    ")"
   ]
  },
  {
   "cell_type": "code",
   "execution_count": 38,
   "id": "8008fe18",
   "metadata": {},
   "outputs": [],
   "source": [
    "state_dict = torch.load(model_path, map_location=torch.device('cpu'))['my_state_dict']\n",
    "model.load_state_dict(state_dict, strict=False)\n",
    "model.eval()"
   ]
  },
  {
   "cell_type": "markdown",
   "id": "c81bc9e5",
   "metadata": {},
   "source": [
    "## Convert to script"
   ]
  },
  {
   "cell_type": "code",
   "execution_count": 55,
   "id": "c42ccf88",
   "metadata": {},
   "outputs": [],
   "source": [
    "VOCAB = ' 0123456789'\n",
    "DEVICE = 'cpu'\n",
    "IMG_SIZE = (512, 280)"
   ]
  },
  {
   "cell_type": "code",
   "execution_count": 54,
   "id": "83b6d9b3",
   "metadata": {},
   "outputs": [],
   "source": [
    "class ModelWrapper(torch.nn.Module):\n",
    "    def __init__(self, model, vocab, size):\n",
    "        super().__init__()\n",
    "        self.model = model\n",
    "        self.vocab = vocab\n",
    "        self.size = size\n",
    "    \n",
    "    def forward(self, image):\n",
    "        return self.model.forward(image)"
   ]
  },
  {
   "cell_type": "code",
   "execution_count": 56,
   "id": "62f5145e",
   "metadata": {},
   "outputs": [],
   "source": [
    "wrapper = ModelWrapper(model, vocab=VOCAB, size=IMG_SIZE)"
   ]
  },
  {
   "cell_type": "code",
   "execution_count": 57,
   "id": "84a6a7d4",
   "metadata": {},
   "outputs": [],
   "source": [
    "scripted_model = torch.jit.script(wrapper)"
   ]
  },
  {
   "cell_type": "code",
   "execution_count": 58,
   "id": "08cf166c",
   "metadata": {},
   "outputs": [],
   "source": [
    "torch.jit.save(scripted_model, model_path.replace('.pth', '.zip'))"
   ]
  }
 ],
 "metadata": {
  "kernelspec": {
   "display_name": "Python 3 (ipykernel)",
   "language": "python",
   "name": "python3"
  },
  "language_info": {
   "codemirror_mode": {
    "name": "ipython",
    "version": 3
   },
   "file_extension": ".py",
   "mimetype": "text/x-python",
   "name": "python",
   "nbconvert_exporter": "python",
   "pygments_lexer": "ipython3",
   "version": "3.8.10"
  }
 },
 "nbformat": 4,
 "nbformat_minor": 5
}
